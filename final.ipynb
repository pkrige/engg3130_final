{
<<<<<<< HEAD
 "cells": [
  {
   "cell_type": "markdown",
   "id": "false-locator",
   "metadata": {
    "id": "48DvwzlSj4LL"
   },
   "source": [
    "# To Implement:\n",
    "\n",
    "## Agents\n",
    "\n",
    "*   infection\n",
    "  - state attribute (Healthy, exposed, infected, recovered)\n",
    "    - recovery after certain time steps or other factor when thought of\n",
    "  - immunocompromised and older agents more likely to get infected\n",
    "  - front line worker/types of employment ( more attracted to sugar piles)\n",
    "\n",
    "*   Move sugar piles (make capacity) \n",
    "  - can we make more and smaller\n",
    "\n",
    "\n",
    "## Behaviour\n",
    "\n",
    "*   agents within a ditance of neighbours they will contract the virus with a probability associated to their antibodies variables\n",
    "\n",
    "*   introduce infected and uninfected agents\n",
    "  - \"introduction of people from outside area\"\n",
    "\n",
    "### Restrictions\n",
    "\n",
    "*   agents should move away from one another\n",
    "  - psuedo implemented (look_and_move_2)\n",
    "\n",
    "*   stay in place\n",
    "\n",
    "*   masks\n",
    "    - increase to the antibodies\n",
    "    - antimasker\n",
    "\n",
    "*   vaccine\n",
    "    - every step could increase the \n",
    "\n"
   ]
  },
  {
   "cell_type": "markdown",
   "id": "eight-slovenia",
   "metadata": {
    "id": "needed-emperor"
   },
   "source": [
    "# Final Project"
   ]
  },
  {
   "cell_type": "code",
   "execution_count": 20,
   "id": "republican-quebec",
   "metadata": {
    "id": "balanced-retreat"
   },
   "outputs": [],
   "source": [
    "%matplotlib inline\n",
    "\n",
    "import matplotlib.pyplot as plt\n",
    "import numpy as np\n",
    "import seaborn as sns\n",
    "from utils import decorate, savefig\n",
    "\n",
    "from scipy.signal import correlate2d\n",
    "from Cell2D import Cell2D, draw_array\n",
    "\n",
    "from matplotlib.colors import LinearSegmentedColormap\n",
    "\n",
    "# make a custom color map\n",
    "palette = sns.color_palette('muted')\n",
    "colors = 'white', palette[1], palette[0]\n",
    "cmap = LinearSegmentedColormap.from_list('cmap', colors)"
   ]
  },
  {
   "cell_type": "markdown",
   "id": "arranged-connection",
   "metadata": {
    "id": "continent-leather"
   },
   "source": [
    "## make_locs"
   ]
  },
  {
   "cell_type": "code",
   "execution_count": 21,
   "id": "dominant-magazine",
   "metadata": {
    "id": "refined-spirituality"
   },
   "outputs": [],
   "source": [
    "def make_locs(n, m):\n",
    "    \"\"\"Makes array where each row is an index in an `n` by `m` grid.\n",
    "    \n",
    "    n: int number of rows\n",
    "    m: int number of cols\n",
    "    \n",
    "    returns: NumPy array\n",
    "    \"\"\"\n",
    "    t = [(i, j) for i in range(n) for j in range(m)]\n",
    "    return np.array(t)"
   ]
  },
  {
   "cell_type": "markdown",
   "id": "dirty-amateur",
   "metadata": {
    "id": "zmR7v1RUcb9F"
   },
   "source": [
    "## make_visibile_locs"
   ]
  },
  {
   "cell_type": "code",
   "execution_count": 22,
   "id": "documentary-persian",
   "metadata": {
    "id": "split-journey"
   },
   "outputs": [],
   "source": [
    "def make_visible_locs(vision):\n",
    "    \"\"\"Computes the kernel of visible cells.\n",
    "        \n",
    "    vision: int distance\n",
    "    \"\"\"\n",
    "    def make_array(d):\n",
    "        \"\"\"Generates visible cells with increasing distance.\"\"\"\n",
    "        a = np.array([[-d, 0], [d, 0], [0, -d], [0, d]])\n",
    "        np.random.shuffle(a)\n",
    "        return a\n",
    "                     \n",
    "    arrays = [make_array(d) for d in range(1, vision+1)]\n",
    "    return np.vstack(arrays)"
   ]
  },
  {
   "cell_type": "code",
   "execution_count": 23,
   "id": "laden-valuable",
   "metadata": {
    "id": "grand-anger"
   },
   "outputs": [],
   "source": [
    "def distances_from(n, i, j):\n",
    "    \"\"\"Computes an array of distances.\n",
    "    \n",
    "    n: size of the array\n",
    "    i, j: coordinates to find distance from\n",
    "    \n",
    "    returns: array of float\n",
    "    \"\"\"\n",
    "    X, Y = np.indices((n, n))\n",
    "    return np.hypot(X-i, Y-j)"
   ]
  },
  {
   "cell_type": "markdown",
   "id": "ahead-printer",
   "metadata": {
    "id": "selected-north"
   },
   "source": [
    "p = 3 for number of immunocompromised agents"
   ]
  },
  {
   "cell_type": "code",
   "execution_count": 65,
   "id": "clear-fault",
   "metadata": {
    "id": "rolled-scoop"
   },
   "outputs": [],
   "source": [
    "class Antigen(Cell2D):\n",
    "    \"\"\"Represents an Epstein-Axtell Sugarscape.\"\"\"\n",
    "    \n",
    "    def __init__(self, n, **params):\n",
    "        \"\"\"Initializes the attributes.\n",
    "\n",
    "        n: number of rows and columns\n",
    "        params: dictionary of parameters\n",
    "        \"\"\"\n",
    "        self.n = n\n",
    "        self.params = params\n",
    "        \n",
    "        avoid = params.get(\"avoid\", 0)\n",
    "        \n",
    "        self.avoid = avoid\n",
    "        \n",
    "        # track variables\n",
    "        self.agent_count_seq = []\n",
    "    \n",
    "        # make the capacity array\n",
    "        self.capacity = self.make_capacity()\n",
    "        \n",
    "        # initially all cells are at capacity\n",
    "        self.array = self.capacity.copy()\n",
    "        \n",
    "        # make the agents\n",
    "        self.make_agents()\n",
    "        \n",
    "    def make_capacity(self):\n",
    "        \"\"\"Makes the capacity array.\"\"\"\n",
    "        \n",
    "        # compute the distance of each cell from the peaks. \n",
    "        dist1 = distances_from(self.n, 75, 75)\n",
    "        dist2 = distances_from(self.n, 25, 25)\n",
    "        dist = np.minimum(dist1, dist2)\n",
    "        \n",
    "        # cells in the capacity array are set according to dist from peak\n",
    "        bins = [21, 16, 11, 6]\n",
    "        a = np.digitize(dist, bins)\n",
    "        return a\n",
    "        \n",
    "    def make_agents(self):\n",
    "        \"\"\"Makes the agents.\"\"\"\n",
    "        \n",
    "        # determine where the agents start and generate locations\n",
    "        n, m = self.params.get('starting_box', self.array.shape)\n",
    "        locs = make_locs(n, m)\n",
    "        np.random.shuffle(locs)\n",
    "\n",
    "        # make the agents\n",
    "        num_agents = self.params.get('num_agents', 400)\n",
    "        assert(num_agents <= len(locs))\n",
    "        self.agents = [Agent(locs[i], self.params) \n",
    "                       for i in range(num_agents)]\n",
    "        \n",
    "        # keep track of which cells are occupied\n",
    "        self.occupied = set(agent.loc for agent in self.agents)\n",
    "            \n",
    "    def grow(self):\n",
    "        \"\"\"Adds sugar to all cells and caps them by capacity.\"\"\"\n",
    "        grow_rate = self.params.get('grow_rate', 1)\n",
    "        self.array = np.minimum(self.array + grow_rate, self.capacity)\n",
    "        \n",
    "    def look_and_move(self, center, vision):\n",
    "        \"\"\"Finds the visible cell with the most sugar.\n",
    "        \n",
    "        center: tuple, coordinates of the center cell\n",
    "        vision: int, maximum visible distance\n",
    "        \n",
    "        returns: tuple, coordinates of best cell\n",
    "        \"\"\"\n",
    "        # find all visible cells\n",
    "        locs = make_visible_locs(vision)\n",
    "        locs = (locs + center) % self.n\n",
    "        \n",
    "        # convert rows of the array to tuples\n",
    "        locs = [tuple(loc) for loc in locs]\n",
    "        \n",
    "        # select unoccupied cells\n",
    "        empty_locs = [loc for loc in locs if loc not in self.occupied]\n",
    "        \n",
    "        # if all visible cells are occupied, stay put\n",
    "        if len(empty_locs) == 0:\n",
    "            return center\n",
    "        \n",
    "        # look up the sugar level in each cell\n",
    "        t = [self.array[loc] for loc in empty_locs]\n",
    "        \n",
    "        # find the best one and return it\n",
    "        # (in case of tie, argmax returns the first, which\n",
    "        # is the closest)\n",
    "        \n",
    "        if self.avoid == 0:\n",
    "            i = np.argmax(t)\n",
    "        else:\n",
    "            i = np.argmin(t)\n",
    "        \n",
    "        return empty_locs[i]\n",
    "    \n",
    "    def look_and_move_2(self, center, vision):\n",
    "        \"\"\"Finds the visible cell with the most sugar.\n",
    "        \n",
    "        center: tuple, coordinates of the center cell\n",
    "        vision: int, maximum visible distance\n",
    "        \n",
    "        returns: tuple, coordinates of best cell\n",
    "        \"\"\"\n",
    "        # find all visible cells\n",
    "        locs = make_visible_locs(vision)\n",
    "        locs = (locs + center) % self.n\n",
    "        \n",
    "        # convert rows of the array to tuples\n",
    "        locs = [tuple(loc) for loc in locs]\n",
    "        \n",
    "        # select occupied cells\n",
    "        occupied_locs = [loc for loc in locs if loc in self.occupied]\n",
    "        empty_locs = [loc for loc in locs if loc not in self.occupied]\n",
    "        \n",
    "        for loc in occupied_locs:\n",
    "            vector_x = center[0] - loc[0]\n",
    "            vector_y = center[1] - loc[1]\n",
    "            vector_occupied = np.sqrt((vector_x)**2 +  (vector_y)**2)\n",
    "        \n",
    "        for loc in empty_locs:\n",
    "            vector_x = center[0] - loc[0]\n",
    "            vector_y = center[1] - loc[1]\n",
    "            vector_empty = np.sqrt((vector_x)**2 +  (vector_y)**2) #currently moving to furthest empty loc, need it to be furtherst away from occupied cells\n",
    "        \n",
    "        \n",
    "        # if all visible cells are occupied, move\n",
    "        if len(empty_locs) == 0:            \n",
    "            return center\n",
    "        \n",
    "        i = np.argmax(vector_empty)\n",
    "        \n",
    "        return empty_locs[i]\n",
    "    \n",
    "    def harvest(self, loc):\n",
    "        \"\"\"Removes and returns the sugar from `loc`.\n",
    "        \n",
    "        loc: tuple coordinates\n",
    "        \"\"\"\n",
    "        sugar = self.array[loc]\n",
    "        self.array[loc] = 0\n",
    "        return sugar\n",
    "    \n",
    "    # how will we go about infection\n",
    "    \n",
    "    def infection(self,center, vision):\n",
    "        agents_nearby = []\n",
    "        \n",
    "        locs = make_visible_locs(vision)\n",
    "        locs = (locs + center) % self.n\n",
    "        \n",
    "        locs = [tuple(loc) for loc in locs]\n",
    "        \n",
    "        occupied_locs = [loc for loc in locs if loc in self.occupied] # gets occupied cells\n",
    "        \n",
    "        #print(occupied_locs)\n",
    "        \n",
    "        for loc in occupied_locs: # returns the agents in those cells\n",
    "            agents_nearby = self.agent_from_loc(loc)\n",
    "            #print(agents_nearby)\n",
    "            \n",
    "        #using these locations, do infection/exposure checks\n",
    "    \n",
    "    def step(self):\n",
    "        \"\"\"Executes one time step.\"\"\"\n",
    "        replace = self.params.get('replace', False)\n",
    "        # loop through the agents in random order\n",
    "        random_order = np.random.permutation(self.agents)\n",
    "        for agent in random_order:\n",
    "            \n",
    "            # mark the current cell unoccupied\n",
    "            self.occupied.remove(agent.loc)\n",
    "            \n",
    "            # execute one step\n",
    "            agent.step(self)\n",
    "\n",
    "            # if the agent is dead, remove from the list\n",
    "            if agent.is_starving() or agent.is_old():\n",
    "                self.agents.remove(agent)\n",
    "                if replace:\n",
    "                    self.add_agent()\n",
    "            else:\n",
    "                # otherwise mark its cell occupied\n",
    "                self.occupied.add(agent.loc)\n",
    "\n",
    "        # update the time series\n",
    "        self.agent_count_seq.append(len(self.agents))\n",
    "        \n",
    "        # grow back some sugar\n",
    "        self.grow()\n",
    "        return len(self.agents)\n",
    "    \n",
    "    def add_agent(self):\n",
    "        \"\"\"Generates a new random agent.\n",
    "                \n",
    "        returns: new Agent\n",
    "        \"\"\"\n",
    "        new_agent = Agent(self.random_loc(), self.params)\n",
    "        self.agents.append(new_agent)\n",
    "        self.occupied.add(new_agent.loc)\n",
    "        return new_agent\n",
    "    \n",
    "    def random_loc(self):\n",
    "        \"\"\"Choose a random unoccupied cell.\n",
    "        \n",
    "        returns: tuple coordinates\n",
    "        \"\"\"\n",
    "        while True:\n",
    "            loc = tuple(np.random.randint(self.n, size=2))\n",
    "            if loc not in self.occupied:\n",
    "                return loc\n",
    "\n",
    "    def agent_from_loc(self, loc):\n",
    "        for agent in self.agents:\n",
    "            if agent.loc == loc:\n",
    "                return agent\n",
    "            \n",
    "    def draw(self):\n",
    "        \"\"\"Draws the cells.\"\"\"\n",
    "        draw_array(self.array, cmap='YlOrRd', vmax=9, origin='lower')\n",
    "        \n",
    "        # draw the agents\n",
    "        xs, ys = self.get_coords()\n",
    "        self.points = plt.plot(xs, ys, '.', color='red')[0]\n",
    "    \n",
    "    def get_coords(self):\n",
    "        \"\"\"Gets the coordinates of the agents.\n",
    "        \n",
    "        Transforms from (row, col) to (x, y).\n",
    "        \n",
    "        returns: tuple of sequences, (xs, ys)\n",
    "        \"\"\"\n",
    "        agents = self.agents\n",
    "        rows, cols = np.transpose([agent.loc for agent in agents])\n",
    "        xs = cols + 0.5\n",
    "        ys = rows + 0.5\n",
    "        return xs, ys"
   ]
  },
  {
   "cell_type": "code",
   "execution_count": 66,
   "id": "danish-aquatic",
   "metadata": {
    "colab": {
     "base_uri": "https://localhost:8080/",
     "height": 128
    },
    "id": "secure-glance",
    "outputId": "7b12bb4b-078c-4247-eb87-97ac23c0bf0a"
   },
   "outputs": [],
   "source": [
    "class Agent:\n",
    "    \n",
    "    def __init__(self, loc, params):\n",
    "        \"\"\"Creates a new agent at the given location.\n",
    "        \n",
    "        loc: tuple coordinates\n",
    "        params: dictionary of parameters\n",
    "        \"\"\"\n",
    "        n=50\n",
    "        q=0.3\n",
    "        \n",
    "        self.loc = tuple(loc)\n",
    "        self.age = 0\n",
    "        \n",
    "        # extract the parameters\n",
    "        max_vision = params.get('max_vision', 6)\n",
    "        max_serotonin = params.get('max_serotinin', 4)\n",
    "        \n",
    "        max_antibodies = params.get('max_antibodies', 100)\n",
    "        \n",
    "        min_lifespan = params.get('min_lifespan', 10)\n",
    "        max_lifespan = params.get('max_lifespan', 100)\n",
    "        \n",
    "        min_sugar = params.get('min_sugar', 5)\n",
    "        max_sugar = params.get('max_sugar', 25)\n",
    "        \n",
    "        max_contagiousness = params.get('max_contagiousness', 100)\n",
    "\n",
    "        exposure = 0;\n",
    "        mask = 0; #if wearing a mask\n",
    "        contagiousness = 0;\n",
    "        vaccinated = 0;\n",
    "        \n",
    "        q = params.get('q', 0.03)\n",
    "        immunocompromised =  np.random.choice([1, 0], p=[q, 1-q]) #impletment as part of infection\n",
    "        \n",
    "        r = params.get('r', 0.3)\n",
    "        likeihood_to_leave =  np.random.choice([1, 0], p=[r, 1-r]) #implement with movement\n",
    "        \n",
    "        # choose attributes\n",
    "        self.vision = max_vision;\n",
    "        self.serotonin = np.random.uniform(1, max_serotonin)\n",
    "        self.lifespan = np.random.uniform(min_lifespan, max_lifespan)\n",
    "        self.sugar = np.random.uniform(min_sugar, max_sugar)\n",
    "        \n",
    "        self.immunocompromised = immunocompromised\n",
    "        self.antibodies = np.random.uniform(1, max_antibodies)\n",
    "        self.exposure = exposure\n",
    "        self.mask = mask\n",
    "\n",
    "    #def determine_antibodies(self):\n",
    "      #length of infection\n",
    "      #vaccinated\n",
    "\n",
    "    #def chance_of_infection(self):\n",
    "      #if self.exposed\n",
    "\n",
    "    #def chance_of_dying(self):\n",
    "\n",
    "        \n",
    "    def step(self, env):\n",
    "        \"\"\"Look around, move, and harvest.\n",
    "        \n",
    "        env: Sugarscape\n",
    "        \"\"\"\n",
    "        #self.loc = env.look_and_move(self.loc, self.vision)\n",
    "        self.loc = env.look_and_move_2(self.loc, self.vision)\n",
    "        self.sugar += env.harvest(self.loc)\n",
    "        self.age += 1\n",
    "\n",
    "        env.infection(self.loc,self.vision)\n",
    "\n",
    "\n",
    "        # if agents is within vision, exposure = 1\n",
    "        # if agent is immunocompromised 100% chance of infection\n",
    "        # else \n",
    "     \n",
    "    def wearing_mask(self): #our function\n",
    "        \"\"\"Checks if agent is wearing a mask\"\"\"\n",
    "        if self.mask == 1:\n",
    "            self.contagiousness = self.contagiousness/2;\n",
    "\n",
    "    def is_starving(self):\n",
    "        \"\"\"Checks if sugar has gone negative.\"\"\"\n",
    "        return self.sugar < 0\n",
    "    \n",
    "    def is_old(self):\n",
    "        \"\"\"Checks if lifespan is exceeded.\"\"\"\n",
    "        return self.age > self.lifespan"
   ]
  },
  {
   "cell_type": "code",
   "execution_count": 67,
   "id": "adaptive-england",
   "metadata": {
    "colab": {
     "base_uri": "https://localhost:8080/",
     "height": 252
    },
    "id": "apparent-smart",
    "outputId": "e94974d0-c3e6-4d27-c131-e171b2b2efe0"
   },
   "outputs": [
    {
     "data": {
      "image/png": "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\n",
      "text/plain": [
       "<Figure size 432x288 with 1 Axes>"
      ]
     },
     "metadata": {},
     "output_type": "display_data"
    }
   ],
   "source": [
    "env = Antigen(100, num_agents=200, replace = True, starting_box=(20,20), avoid = 1)\n",
    "env.draw()"
   ]
  },
  {
   "cell_type": "code",
   "execution_count": 68,
   "id": "incorporated-situation",
   "metadata": {
    "colab": {
     "base_uri": "https://localhost:8080/",
     "height": 252
    },
    "id": "dynamic-vintage",
    "outputId": "02970405-fadf-435d-b7c7-5951d7804d5f"
   },
   "outputs": [
    {
     "data": {
      "image/png": "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\n",
      "text/plain": [
       "<Figure size 432x288 with 1 Axes>"
=======
  "nbformat": 4,
  "nbformat_minor": 5,
  "metadata": {
    "kernelspec": {
      "display_name": "Python 3",
      "language": "python",
      "name": "python3"
    },
    "language_info": {
      "codemirror_mode": {
        "name": "ipython",
        "version": 3
      },
      "file_extension": ".py",
      "mimetype": "text/x-python",
      "name": "python",
      "nbconvert_exporter": "python",
      "pygments_lexer": "ipython3",
      "version": "3.9.1"
    },
    "colab": {
      "name": "final.ipynb",
      "provenance": [],
      "collapsed_sections": [],
      "toc_visible": true
    }
  },
  "cells": [
    {
      "cell_type": "markdown",
      "metadata": {
        "id": "needed-emperor"
      },
      "source": [
        "# Final Project"
      ],
      "id": "needed-emperor"
    },
    {
      "cell_type": "code",
      "metadata": {
        "id": "balanced-retreat"
      },
      "source": [
        "%matplotlib inline\n",
        "\n",
        "import matplotlib.pyplot as plt\n",
        "import numpy as np\n",
        "import seaborn as sns\n",
        "\n",
        "from utils import decorate, savefig\n",
        "\n",
        "from scipy.signal import correlate2d\n",
        "from Cell2D import Cell2D, draw_array\n",
        "\n",
        "from matplotlib.colors import LinearSegmentedColormap\n",
        "\n",
        "# make a custom color map\n",
        "palette = sns.color_palette('muted')\n",
        "colors = 'white', palette[1], palette[0]\n",
        "cmap = LinearSegmentedColormap.from_list('cmap', colors)"
      ],
      "id": "balanced-retreat",
      "execution_count": null,
      "outputs": []
    },
    {
      "cell_type": "markdown",
      "metadata": {
        "id": "continent-leather"
      },
      "source": [
        "## make_locs"
      ],
      "id": "continent-leather"
    },
    {
      "cell_type": "code",
      "metadata": {
        "id": "refined-spirituality"
      },
      "source": [
        "def make_locs(n, m):\n",
        "    \"\"\"Makes array where each row is an index in an `n` by `m` grid.\n",
        "    \n",
        "    n: int number of rows\n",
        "    m: int number of cols\n",
        "    \n",
        "    returns: NumPy array\n",
        "    \"\"\"\n",
        "    t = [(i, j) for i in range(n) for j in range(m)]\n",
        "    return np.array(t)"
      ],
      "id": "refined-spirituality",
      "execution_count": null,
      "outputs": []
    },
    {
      "cell_type": "markdown",
      "metadata": {
        "id": "zmR7v1RUcb9F"
      },
      "source": [
        "## make_visibile_locs"
      ],
      "id": "zmR7v1RUcb9F"
    },
    {
      "cell_type": "code",
      "metadata": {
        "id": "split-journey"
      },
      "source": [
        "def make_visible_locs(vision):\n",
        "    \"\"\"Computes the kernel of visible cells.\n",
        "        \n",
        "    vision: int distance\n",
        "    \"\"\"\n",
        "    def make_array(d):\n",
        "        \"\"\"Generates visible cells with increasing distance.\"\"\"\n",
        "        a = np.array([[-d, 0], [d, 0], [0, -d], [0, d]])\n",
        "        np.random.shuffle(a)\n",
        "        return a\n",
        "                     \n",
        "    arrays = [make_array(d) for d in range(1, vision+1)]\n",
        "    return np.vstack(arrays)"
      ],
      "id": "split-journey",
      "execution_count": null,
      "outputs": []
    },
    {
      "cell_type": "code",
      "metadata": {
        "id": "grand-anger"
      },
      "source": [
        "def distances_from(n, i, j):\n",
        "    \"\"\"Computes an array of distances.\n",
        "    \n",
        "    n: size of the array\n",
        "    i, j: coordinates to find distance from\n",
        "    \n",
        "    returns: array of float\n",
        "    \"\"\"\n",
        "    X, Y = np.indices((n, n))\n",
        "    return np.hypot(X-i, Y-j)"
      ],
      "id": "grand-anger",
      "execution_count": null,
      "outputs": []
    },
    {
      "cell_type": "markdown",
      "metadata": {
        "id": "selected-north"
      },
      "source": [
        "p = 3 for number of immunocompromised agents"
      ],
      "id": "selected-north"
    },
    {
      "cell_type": "code",
      "metadata": {
        "id": "rolled-scoop"
      },
      "source": [
        "class Antigen(Cell2D):\n",
        "    \"\"\"Represents an Epstein-Axtell Sugarscape.\"\"\"\n",
        "    \n",
        "    def __init__(self, n, **params):\n",
        "        \"\"\"Initializes the attributes.\n",
        "\n",
        "        n: number of rows and columns\n",
        "        params: dictionary of parameters\n",
        "        \"\"\"\n",
        "        self.n = n\n",
        "        self.params = params\n",
        "        \n",
        "        avoid = params.get(\"avoid\", 0)\n",
        "        \n",
        "        self.avoid = avoid\n",
        "        \n",
        "        # track variables\n",
        "        self.agent_count_seq = []\n",
        "    \n",
        "        # make the capacity array\n",
        "        self.capacity = self.make_capacity()\n",
        "        \n",
        "        # initially all cells are at capacity\n",
        "        self.array = self.capacity.copy()\n",
        "        \n",
        "        # make the agents\n",
        "        self.make_agents()\n",
        "        \n",
        "    def make_capacity(self):\n",
        "        \"\"\"Makes the capacity array.\"\"\"\n",
        "        \n",
        "        # compute the distance of each cell from the peaks. \n",
        "        dist1 = distances_from(self.n, 15, 15)\n",
        "        dist2 = distances_from(self.n, 35, 35)\n",
        "        dist = np.minimum(dist1, dist2)\n",
        "        \n",
        "        # cells in the capacity array are set according to dist from peak\n",
        "        bins = [21, 16, 11, 6]\n",
        "        a = np.digitize(dist, bins)\n",
        "        return a\n",
        "        \n",
        "    def make_agents(self):\n",
        "        \"\"\"Makes the agents.\"\"\"\n",
        "        \n",
        "        # determine where the agents start and generate locations\n",
        "        n, m = self.params.get('starting_box', self.array.shape)\n",
        "        locs = make_locs(n, m)\n",
        "        np.random.shuffle(locs)\n",
        "\n",
        "        # make the agents\n",
        "        num_agents = self.params.get('num_agents', 400)\n",
        "        assert(num_agents <= len(locs))\n",
        "        self.agents = [Agent(locs[i], self.params) \n",
        "                       for i in range(num_agents)]\n",
        "        \n",
        "        # keep track of which cells are occupied\n",
        "        self.occupied = set(agent.loc for agent in self.agents)\n",
        "            \n",
        "    def grow(self):\n",
        "        \"\"\"Adds sugar to all cells and caps them by capacity.\"\"\"\n",
        "        grow_rate = self.params.get('grow_rate', 1)\n",
        "        self.array = np.minimum(self.array + grow_rate, self.capacity)\n",
        "        \n",
        "    def look_and_move(self, center, vision):\n",
        "        \"\"\"Finds the visible cell with the most sugar.\n",
        "        \n",
        "        center: tuple, coordinates of the center cell\n",
        "        vision: int, maximum visible distance\n",
        "        \n",
        "        returns: tuple, coordinates of best cell\n",
        "        \"\"\"\n",
        "        # find all visible cells\n",
        "        locs = make_visible_locs(vision)\n",
        "        locs = (locs + center) % self.n\n",
        "        \n",
        "        # convert rows of the array to tuples\n",
        "        locs = [tuple(loc) for loc in locs]\n",
        "        \n",
        "        # select unoccupied cells\n",
        "        empty_locs = [loc for loc in locs if loc not in self.occupied]\n",
        "        \n",
        "        # if all visible cells are occupied, stay put\n",
        "        if len(empty_locs) == 0:\n",
        "            return center\n",
        "        \n",
        "        # look up the sugar level in each cell\n",
        "        t = [self.array[loc] for loc in empty_locs]\n",
        "        \n",
        "        # find the best one and return it\n",
        "        # (in case of tie, argmax returns the first, which\n",
        "        # is the closest)\n",
        "        \n",
        "        if self.avoid == 0:\n",
        "            i = np.argmax(t)\n",
        "        else:\n",
        "            i = np.argmin(t)\n",
        "        \n",
        "        return empty_locs[i]\n",
        "    \n",
        "    def look_and_move_2(self, center, vision):\n",
        "        \"\"\"Finds the visible cell with the most sugar.\n",
        "        \n",
        "        center: tuple, coordinates of the center cell\n",
        "        vision: int, maximum visible distance\n",
        "        \n",
        "        returns: tuple, coordinates of best cell\n",
        "        \"\"\"\n",
        "        # find all visible cells\n",
        "        locs = make_visible_locs(vision)\n",
        "        locs = (locs + center) % self.n\n",
        "        \n",
        "        # convert rows of the array to tuples\n",
        "        locs = [tuple(loc) for loc in locs]\n",
        "        \n",
        "        # select occupied cells\n",
        "        occupied_locs = [loc for loc in locs if loc in self.occupied]\n",
        "        empty_locs = [loc for loc in locs if loc not in self.occupied]\n",
        "        \n",
        "        for loc in occupied_locs:\n",
        "            vector_x = center[0] - loc[0]\n",
        "            vector_y = center[1] - loc[1]\n",
        "            vector_occupied = np.sqrt((vector_x)**2 +  (vector_y)**2)\n",
        "        \n",
        "        for loc in empty_locs:\n",
        "            vector_x = center[0] - loc[0]\n",
        "            vector_y = center[1] - loc[1]\n",
        "            vector_empty = np.sqrt((vector_x)**2 +  (vector_y)**2) #currently moving to furthest empty loc, need it to be furtherst away from occupied cells\n",
        "        \n",
        "        \n",
        "        # if all visible cells are occupied, move\n",
        "        if len(empty_locs) == 0:            \n",
        "            return center\n",
        "        \n",
        "        i = np.argmax(vector_empty)\n",
        "        \n",
        "        return empty_locs[i]\n",
        "    \n",
        "    def harvest(self, loc):\n",
        "        \"\"\"Removes and returns the sugar from `loc`.\n",
        "        \n",
        "        loc: tuple coordinates\n",
        "        \"\"\"\n",
        "        sugar = self.array[loc]\n",
        "        self.array[loc] = 0\n",
        "        return sugar\n",
        "    \n",
        "    # how will we go about infection\n",
        "    \n",
        "    def step(self):\n",
        "        \"\"\"Executes one time step.\"\"\"\n",
        "        replace = self.params.get('replace', False)\n",
        "        \n",
        "        # loop through the agents in random order\n",
        "        random_order = np.random.permutation(self.agents)\n",
        "        for agent in random_order:\n",
        "            \n",
        "            # mark the current cell unoccupied\n",
        "            self.occupied.remove(agent.loc)\n",
        "            \n",
        "            # execute one step\n",
        "            agent.step(self)\n",
        "\n",
        "            # if the agent is dead, remove from the list\n",
        "            if agent.is_starving() or agent.is_old():\n",
        "                self.agents.remove(agent)\n",
        "                if replace:\n",
        "                    self.add_agent()\n",
        "            else:\n",
        "                # otherwise mark its cell occupied\n",
        "                self.occupied.add(agent.loc)\n",
        "\n",
        "        # update the time series\n",
        "        self.agent_count_seq.append(len(self.agents))\n",
        "        \n",
        "        # grow back some sugar\n",
        "        self.grow()\n",
        "        return len(self.agents)\n",
        "    \n",
        "    def add_agent(self):\n",
        "        \"\"\"Generates a new random agent.\n",
        "                \n",
        "        returns: new Agent\n",
        "        \"\"\"\n",
        "        new_agent = Agent(self.random_loc(), self.params)\n",
        "        self.agents.append(new_agent)\n",
        "        self.occupied.add(new_agent.loc)\n",
        "        return new_agent\n",
        "    \n",
        "    def random_loc(self):\n",
        "        \"\"\"Choose a random unoccupied cell.\n",
        "        \n",
        "        returns: tuple coordinates\n",
        "        \"\"\"\n",
        "        while True:\n",
        "            loc = tuple(np.random.randint(self.n, size=2))\n",
        "            if loc not in self.occupied:\n",
        "                return loc\n",
        "\n",
        "    def draw(self):\n",
        "        \"\"\"Draws the cells.\"\"\"\n",
        "        draw_array(self.array, cmap='YlOrRd', vmax=9, origin='lower')\n",
        "        \n",
        "        # draw the agents\n",
        "        xs, ys = self.get_coords()\n",
        "        self.points = plt.plot(xs, ys, '.', color='red')[0]\n",
        "    \n",
        "    def get_coords(self):\n",
        "        \"\"\"Gets the coordinates of the agents.\n",
        "        \n",
        "        Transforms from (row, col) to (x, y).\n",
        "        \n",
        "        returns: tuple of sequences, (xs, ys)\n",
        "        \"\"\"\n",
        "        agents = self.agents\n",
        "        rows, cols = np.transpose([agent.loc for agent in agents])\n",
        "        xs = cols + 0.5\n",
        "        ys = rows + 0.5\n",
        "        return xs, ys"
      ],
      "id": "rolled-scoop",
      "execution_count": null,
      "outputs": []
    },
    {
      "cell_type": "code",
      "metadata": {
        "id": "secure-glance"
      },
      "source": [
        "class Agent:\n",
        "    \n",
        "    def __init__(self, loc, params):\n",
        "        \"\"\"Creates a new agent at the given location.\n",
        "        \n",
        "        loc: tuple coordinates\n",
        "        params: dictionary of parameters\n",
        "        \"\"\"\n",
        "        n=50\n",
        "        q=0.3\n",
        "        \n",
        "        self.loc = tuple(loc)\n",
        "        self.age = 0\n",
        "        \n",
        "        # extract the parameters\n",
        "        max_vision = params.get('max_vision', 6)\n",
        "        max_serotonin = params.get('max_serotinin', 4)\n",
        "        \n",
        "        max_antibodies = params.get('max_antibodies', 100)\n",
        "        \n",
        "        min_lifespan = params.get('min_lifespan', 10)\n",
        "        max_lifespan = params.get('max_lifespan', 100)\n",
        "        \n",
        "        min_sugar = params.get('min_sugar', 5)\n",
        "        max_sugar = params.get('max_sugar', 25)\n",
        "        \n",
        "        exposure = 0;\n",
        "        \n",
        "        q = params.get('q', 0.03)\n",
        "        immunocompromised =  np.random.choice([1, 0], p=[q, 1-q]) #impletment as part of infection\n",
        "        \n",
        "        r = params.get('r', 0.3)\n",
        "        likeihood_to_leave =  np.random.choice([1, 0], p=[r, 1-r]) #implement with movement\n",
        "        \n",
        "        # choose attributes\n",
        "        self.vision = max_vision;\n",
        "        #self.vision = np.random.randint(1, max_vision+1)\n",
        "        self.serotonin = np.random.uniform(1, max_serotonin)\n",
        "        self.lifespan = np.random.uniform(min_lifespan, max_lifespan)\n",
        "        self.sugar = np.random.uniform(min_sugar, max_sugar)\n",
        "        \n",
        "        self.immunocompromised = immunocompromised\n",
        "        self.antibodies = np.random.uniform(1, max_antibodies)\n",
        "        self.exposure = exposure\n",
        "        \n",
        "    def step(self, env):\n",
        "        \"\"\"Look around, move, and harvest.\n",
        "        \n",
        "        env: Sugarscape\n",
        "        \"\"\"\n",
        "        self.loc = env.look_and_move(self.loc, self.vision)\n",
        "        self.loc = env.look_and_move_2(self.loc, self.vision)\n",
        "        self.sugar += env.harvest(self.loc)\n",
        "        self.age += 1\n",
        "        \n",
        "        # if agents is within vision, exposure = 1\n",
        "        # if agent is immunocompromised 100% chance of infection\n",
        "        # else \n",
        "\n",
        "    def is_starving(self):\n",
        "        \"\"\"Checks if sugar has gone negative.\"\"\"\n",
        "        return self.sugar < 0\n",
        "    \n",
        "    def is_old(self):\n",
        "        \"\"\"Checks if lifespan is exceeded.\"\"\"\n",
        "        return self.age > self.lifespan"
      ],
      "id": "secure-glance",
      "execution_count": null,
      "outputs": []
    },
    {
      "cell_type": "code",
      "metadata": {
        "id": "apparent-smart",
        "colab": {
          "base_uri": "https://localhost:8080/",
          "height": 252
        },
        "outputId": "b43bcc1e-2ca1-4e2e-c564-0e82dd0d1161"
      },
      "source": [
        "env = Antigen(100, num_agents=200, replace = True, starting_box=(20,20), avoid = 1)\n",
        "env.draw()"
      ],
      "id": "apparent-smart",
      "execution_count": null,
      "outputs": [
        {
          "output_type": "display_data",
          "data": {
            "image/png": "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\n",
            "text/plain": [
              "<Figure size 432x288 with 1 Axes>"
            ]
          },
          "metadata": {
            "tags": []
          }
        }
      ]
    },
    {
      "cell_type": "code",
      "metadata": {
        "id": "dynamic-vintage",
        "colab": {
          "base_uri": "https://localhost:8080/",
          "height": 252
        },
        "outputId": "77b6fe0b-2de1-47c2-95e6-eac5a4e8e6c4"
      },
      "source": [
        "env.animate(frames=100)"
      ],
      "id": "dynamic-vintage",
      "execution_count": null,
      "outputs": [
        {
          "output_type": "display_data",
          "data": {
            "image/png": "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\n",
            "text/plain": [
              "<Figure size 432x288 with 1 Axes>"
            ]
          },
          "metadata": {
            "tags": []
          }
        }
>>>>>>> 640fd709799518525e6349c756e240cc514341bf
      ]
    },
    {
      "cell_type": "code",
      "metadata": {
        "id": "ignored-hello"
      },
      "source": [
        ""
      ],
      "id": "ignored-hello",
      "execution_count": null,
      "outputs": []
    },
    {
      "cell_type": "code",
      "metadata": {
        "id": "explicit-kuwait"
      },
      "source": [
        ""
      ],
      "id": "explicit-kuwait",
      "execution_count": null,
      "outputs": []
    }
<<<<<<< HEAD
   ],
   "source": [
    "env.animate(frames=100)"
   ]
  },
  {
   "cell_type": "code",
   "execution_count": null,
   "id": "stuck-burner",
   "metadata": {
    "id": "ignored-hello"
   },
   "outputs": [],
   "source": []
  },
  {
   "cell_type": "code",
   "execution_count": null,
   "id": "seven-fundamental",
   "metadata": {
    "id": "explicit-kuwait"
   },
   "outputs": [],
   "source": []
  }
 ],
 "metadata": {
  "colab": {
   "collapsed_sections": [],
   "name": "final.ipynb",
   "provenance": [],
   "toc_visible": true
  },
  "kernelspec": {
   "display_name": "Python 3",
   "language": "python",
   "name": "python3"
  },
  "language_info": {
   "codemirror_mode": {
    "name": "ipython",
    "version": 3
   },
   "file_extension": ".py",
   "mimetype": "text/x-python",
   "name": "python",
   "nbconvert_exporter": "python",
   "pygments_lexer": "ipython3",
   "version": "3.9.1"
  }
 },
 "nbformat": 4,
 "nbformat_minor": 5
}
=======
  ]
}
>>>>>>> 640fd709799518525e6349c756e240cc514341bf
